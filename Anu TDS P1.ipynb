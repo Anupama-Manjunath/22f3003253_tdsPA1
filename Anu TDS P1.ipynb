{
 "cells": [
  {
   "cell_type": "code",
   "execution_count": 1,
   "id": "5ab0631c",
   "metadata": {},
   "outputs": [],
   "source": [
    "#users.csv\n",
    "import requests\n",
    "import csv\n",
    "\n",
    
    "GITHUB_TOKEN = 'token'\n", #token hidden for privacy
    "HEADERS = {'Authorization': f'token {GITHUB_TOKEN}'}\n", 
    "BASE_URL = 'https://api.github.com'\n",
    "\n",
    "def get_users_in_zurich():\n",
    "    users = []\n",
    "    page = 1\n",
    "\n",
    "    while True:\n",
    "        response = requests.get(f'{BASE_URL}/search/users',\n",
    "                                headers=HEADERS,\n",
    "                                params={'q': 'location:Zurich followers:>50', 'page': page})\n",
    "        data = response.json()\n",
    "\n",
    "        if 'items' not in data or not data['items']:\n",
    "            break\n",
    "\n",
    "        for user in data['items']:\n",
    "            users.append(user['login'])\n",
    "\n",
    "        page += 1\n",
    "\n",
    "    return users\n",
    "\n",
    "def get_user_details(username):\n",
    "    response = requests.get(f'{BASE_URL}/users/{username}', headers=HEADERS)\n",
    "    return response.json()\n",
    "\n",
    "def clean_company(company):\n",
    "    if company:\n",
    "        return company.strip().lstrip('@').upper()\n",
    "    return None\n",
    "\n",
    "def main():\n",
    "    users = get_users_in_zurich()\n",
    "    user_details = []\n",
    "\n",
    "    for user in users:\n",
    "        details = get_user_details(user)\n",
    "        user_details.append({\n",
    "            'login': details.get('login'),\n",
    "            'name': details.get('name'),\n",
    "            'company': clean_company(details.get('company')),\n",
    "            'location': details.get('location'),\n",
    "            'email': details.get('email'),\n",
    "            'hireable': details.get('hireable'),\n",
    "            'bio': details.get('bio'),\n",
    "            'public_repos': details.get('public_repos'),\n",
    "            'followers': details.get('followers'),\n",
    "            'following': details.get('following'),\n",
    "            'created_at': details.get('created_at'),\n",
    "        })\n",
    "\n",
    "    # Write to CSV\n",
    "    with open('users.csv', 'w', newline='', encoding='utf-8') as csvfile:\n",
    "        fieldnames = ['login', 'name', 'company', 'location', 'email',\n",
    "                      'hireable', 'bio', 'public_repos', 'followers',\n",
    "                      'following', 'created_at']\n",
    "        writer = csv.DictWriter(csvfile, fieldnames=fieldnames)\n",
    "        writer.writeheader()\n",
    "        for user in user_details:\n",
    "            writer.writerow(user)\n",
    "\n",
    "if __name__ == '__main__':\n",
    "    main()\n"
   ]
  },
  {
   "cell_type": "code",
   "execution_count": 2,
   "id": "8554d03a",
   "metadata": {},
   "outputs": [
    {
     "name": "stdout",
     "output_type": "stream",
     "text": [
      "Company names cleaned and saved to users.csv.\n"
     ]
    }
   ],
   "source": [
    "#more cleaned users.csv\n",
    "import pandas as pd\n",
    "\n",
    "# Load the data\n",
    "users_df = pd.read_csv('users.csv')\n",
    "\n",
    "# Clean the company names\n",
    "users_df['company'] = users_df['company'].str.strip()  # Trim whitespace\n",
    "users_df['company'] = users_df['company'].str.lstrip('@')  # Strip leading '@'\n",
    "users_df['company'] = users_df['company'].str.upper()  # Convert to uppercase\n",
    "\n",
    "# Save the cleaned DataFrame back to users.csv\n",
    "users_df.to_csv('users.csv', index=False)\n",
    "\n",
    "print(\"Company names cleaned and saved to users.csv.\")\n"
   ]
  },
  {
   "cell_type": "code",
   "execution_count": 25,
   "id": "91717a77",
   "metadata": {},
   "outputs": [],
   "source": [
    "def get_repositories(username):\n",
    "    repos = []\n",
    "    page = 1\n",
    "    while True:\n",
    "        response = requests.get(f'{BASE_URL}/users/{username}/repos',\n",
    "                                headers=HEADERS,\n",
    "                                params={'sort': 'pushed', 'direction': 'desc', 'per_page': 100, 'page': page})\n",
    "        data = response.json()\n",
    "        print(data)  # Add this line to check the response\n",
    "\n",
    "        if not data or len(repos) >= 500:\n",
    "            break\n",
    "\n",
    "        for repo in data:\n",
    "            repos.append({\n",
    "                'full_name': repo['full_name'],\n",
    "                'created_at': repo['created_at'],\n",
    "                'stargazers_count': repo['stargazers_count'],\n",
    "                'watchers_count': repo['watchers_count'],\n",
    "                'language': repo['language'],\n",
    "                'has_projects': repo['has_projects'],\n",
    "                'has_wiki': repo['has_wiki'],\n",
    "                'license_name': repo['license']['key'] if repo.get('license') else None  # Safely fetch license key\n",
    "            })\n",
    "\n",
    "        page += 1\n",
    "\n",
    "    return repos[:500]  # Return up to 500 repos\n"
   ]
  },
  {
   "cell_type": "code",
   "execution_count": 26,
   "id": "f2ca1cc1",
   "metadata": {},
   "outputs": [
    {
     "name": "stdout",
     "output_type": "stream",
     "text": [
      "     login                                          full_name  \\\n",
      "0  IDouble  IDouble/Market-Overview-Indexes-Forex-Metals-C...   \n",
      "1  IDouble  IDouble/Customizable-Crypto-Currency-Dashboard...   \n",
      "2  IDouble        IDouble/HTML-Crypto-Currency-Chart-Snippets   \n",
      "3  IDouble            IDouble/Forex-USD-Currency-Market-Chart   \n",
      "4  IDouble                                    IDouble/IDouble   \n",
      "\n",
      "             created_at  stargazers_count  watchers_count language  \\\n",
      "0  2022-01-10T04:36:39Z               108             108     HTML   \n",
      "1  2019-06-15T09:25:48Z               210             210     HTML   \n",
      "2  2019-06-10T07:34:31Z               266             266     HTML   \n",
      "3  2022-04-26T16:10:59Z                52              52     HTML   \n",
      "4  2022-11-18T17:26:07Z                39              39      NaN   \n",
      "\n",
      "   has_projects  has_wiki license_name  \n",
      "0          True      True          mit  \n",
      "1          True      True          mit  \n",
      "2          True      True          mit  \n",
      "3          True      True          mit  \n",
      "4          True      True          mit  \n",
      "     login                                          full_name  \\\n",
      "0  IDouble  IDouble/Market-Overview-Indexes-Forex-Metals-C...   \n",
      "1  IDouble  IDouble/Customizable-Crypto-Currency-Dashboard...   \n",
      "2  IDouble        IDouble/HTML-Crypto-Currency-Chart-Snippets   \n",
      "3  IDouble            IDouble/Forex-USD-Currency-Market-Chart   \n",
      "4  IDouble                                    IDouble/IDouble   \n",
      "\n",
      "             created_at  stargazers_count  watchers_count language  \\\n",
      "0  2022-01-10T04:36:39Z               108             108     HTML   \n",
      "1  2019-06-15T09:25:48Z               210             210     HTML   \n",
      "2  2019-06-10T07:34:31Z               266             266     HTML   \n",
      "3  2022-04-26T16:10:59Z                52              52     HTML   \n",
      "4  2022-11-18T17:26:07Z                39              39      NaN   \n",
      "\n",
      "  has_projects has_wiki license_name  \n",
      "0         true     true          mit  \n",
      "1         true     true          mit  \n",
      "2         true     true          mit  \n",
      "3         true     true          mit  \n",
      "4         true     true          mit  \n",
      "Updated CSV file saved successfully.\n"
     ]
    }
   ],
   "source": [
    "\n",
    "repositories_df = pd.read_csv('repositories.csv')\n",
    "\n",
    "# Check the data types and structure\n",
    "print(repositories_df.head())\n",
    "\n",
    "# Replace True/False with true/false\n",
    "repositories_df['has_projects'] = repositories_df['has_projects'].replace({True: 'true', False: 'false'})\n",
    "repositories_df['has_wiki'] = repositories_df['has_wiki'].replace({True: 'true', False: 'false'})\n",
    "\n",
    "# Save the modified DataFrame back to the same CSV file\n",
    "repositories_df.to_csv('repositories.csv', index=False)\n",
    "\n",
    "# Check the data types and structure\n",
    "print(repositories_df.head())\n",
    "\n",
    "print(\"Updated CSV file saved successfully.\")\n"
   ]
  },
  {
   "cell_type": "code",
   "execution_count": 27,
   "id": "c6471ef4",
   "metadata": {},
   "outputs": [
    {
     "name": "stdout",
     "output_type": "stream",
     "text": [
      "             login            name           company  \\\n",
      "0          IDouble        Alp ₿📈🚀🌕  IDEX/USD @IDEXIO   \n",
      "1  TheOfficialFloW     Andy Nguyen               NaN   \n",
      "2          Seldaek  Jordi Boggiano         PACKAGIST   \n",
      "3            riscv          RISC-V               NaN   \n",
      "4      JonnyBurger    Jonny Burger      REMOTION-DEV   \n",
      "\n",
      "                      location                          email hireable  \\\n",
      "0          Zurich, Switzerland                            NaN      NaN   \n",
      "1                       Zurich  theofficialflow1996@gmail.com      NaN   \n",
      "2  Zürich, Zurich, Switzerland             j.boggiano@seld.be      NaN   \n",
      "3                   Zurich, CH                 info@riscv.org      NaN   \n",
      "4          Zurich, Switzerland                    hi@jonny.io      NaN   \n",
      "\n",
      "                                                 bio  public_repos  followers  \\\n",
      "0  🗽 Be greedy when others are fearful and be fea...            61      32947   \n",
      "1                      Information Security Engineer            39       4599   \n",
      "2  \\r\\n    Working on https://packagist.com and h...           259       4563   \n",
      "3     The Open-Standard Instruction Set Architecture            58       3186   \n",
      "4                 Creative hacker @remotion-dev \\r\\n           239       2463   \n",
      "\n",
      "   following            created_at  \n",
      "0     320544  2016-03-31T09:16:13Z  \n",
      "1         32  2015-09-12T08:16:45Z  \n",
      "2          1  2010-01-16T18:28:47Z  \n",
      "3          0  2015-02-05T21:49:09Z  \n",
      "4         30  2012-04-10T14:57:36Z  \n",
      "             login            name           company  \\\n",
      "0          IDouble        Alp ₿📈🚀🌕  IDEX/USD @IDEXIO   \n",
      "1  TheOfficialFloW     Andy Nguyen               NaN   \n",
      "2          Seldaek  Jordi Boggiano         PACKAGIST   \n",
      "3            riscv          RISC-V               NaN   \n",
      "4      JonnyBurger    Jonny Burger      REMOTION-DEV   \n",
      "\n",
      "                      location                          email hireable  \\\n",
      "0          Zurich, Switzerland                            NaN      NaN   \n",
      "1                       Zurich  theofficialflow1996@gmail.com      NaN   \n",
      "2  Zürich, Zurich, Switzerland             j.boggiano@seld.be      NaN   \n",
      "3                   Zurich, CH                 info@riscv.org      NaN   \n",
      "4          Zurich, Switzerland                    hi@jonny.io      NaN   \n",
      "\n",
      "                                                 bio  public_repos  followers  \\\n",
      "0  🗽 Be greedy when others are fearful and be fea...            61      32947   \n",
      "1                      Information Security Engineer            39       4599   \n",
      "2  \\r\\n    Working on https://packagist.com and h...           259       4563   \n",
      "3     The Open-Standard Instruction Set Architecture            58       3186   \n",
      "4                 Creative hacker @remotion-dev \\r\\n           239       2463   \n",
      "\n",
      "   following            created_at  \n",
      "0     320544  2016-03-31T09:16:13Z  \n",
      "1         32  2015-09-12T08:16:45Z  \n",
      "2          1  2010-01-16T18:28:47Z  \n",
      "3          0  2015-02-05T21:49:09Z  \n",
      "4         30  2012-04-10T14:57:36Z  \n",
      "Updated CSV file saved successfully.\n"
     ]
    }
   ],
   "source": [
    "users_df = pd.read_csv('users.csv')\n",
    "\n",
    "# Check the data types and structure\n",
    "print(users_df.head())\n",
    "\n",
    "# Replace True/False with true/false in the hireable column\n",
    "users_df['hireable'] = users_df['hireable'].replace({True: 'true', False: 'false'})\n",
    "\n",
    "# Save the modified DataFrame back to the same CSV file\n",
    "users_df.to_csv('users.csv', index=False)\n",
    "\n",
    "# Check the data types and structure\n",
    "print(users_df.head())\n",
    "\n",
    "\n",
    "print(\"Updated CSV file saved successfully.\")\n",
    "\n"
   ]
  },
  {
   "cell_type": "code",
   "execution_count": 28,
   "id": "d050cd91",
   "metadata": {},
   "outputs": [
    {
     "name": "stdout",
     "output_type": "stream",
     "text": [
      "IDouble, TheOfficialFloW, Seldaek, riscv, JonnyBurger\n"
     ]
    }
   ],
   "source": [
    "#Q1\n",
    "import pandas as pd\n",
    "\n",
    "# Load the data\n",
    "users_df = pd.read_csv('users.csv')\n",
    "\n",
    "# Sort by followers and get top 5\n",
    "top_users = users_df.sort_values(by='followers', ascending=False).head(5)\n",
    "\n",
    "# Extract logins\n",
    "top_logins = top_users['login'].tolist()\n",
    "result = ', '.join(top_logins)\n",
    "\n",
    "print(result)"
   ]
  },
  {
   "cell_type": "code",
   "execution_count": 29,
   "id": "1e781c29",
   "metadata": {},
   "outputs": [
    {
     "name": "stdout",
     "output_type": "stream",
     "text": [
      "lejoe, uwolfer, matthiask, oscardelben, panterch\n"
     ]
    }
   ],
   "source": [
    "#Q2\n",
    "import pandas as pd\n",
    "\n",
    "# Load the data\n",
    "users_df = pd.read_csv('users.csv')\n",
    "\n",
    "# Convert created_at to datetime\n",
    "users_df['created_at'] = pd.to_datetime(users_df['created_at'])\n",
    "\n",
    "# Sort by created_at and get the earliest 5 users\n",
    "earliest_users = users_df.sort_values(by='created_at').head(5)\n",
    "\n",
    "# Extract logins\n",
    "earliest_logins = earliest_users['login'].tolist()\n",
    "result = ', '.join(earliest_logins)\n",
    "\n",
    "print(result)\n"
   ]
  },
  {
   "cell_type": "code",
   "execution_count": 30,
   "id": "30c6453a",
   "metadata": {},
   "outputs": [
    {
     "name": "stdout",
     "output_type": "stream",
     "text": [
      "mit, other, apache-2.0\n"
     ]
    }
   ],
   "source": [
    "#Q3\n",
    "import pandas as pd\n",
    "\n",
    "# Load the data\n",
    "repositories_df = pd.read_csv('repositories.csv')\n",
    "\n",
    "# Filter out missing license names\n",
    "repositories_df = repositories_df[repositories_df['license_name'].notna()]\n",
    "\n",
    "# Count occurrences of each license\n",
    "license_counts = repositories_df['license_name'].value_counts()\n",
    "\n",
    "# Get the top 3 licenses\n",
    "top_licenses = license_counts.head(3).index.tolist()\n",
    "\n",
    "# Join the license names in order\n",
    "result = ', '.join(top_licenses)\n",
    "\n",
    "print(result)\n"
   ]
  },
  {
   "cell_type": "code",
   "execution_count": 31,
   "id": "b305183e",
   "metadata": {},
   "outputs": [
    {
     "name": "stdout",
     "output_type": "stream",
     "text": [
      "The majority of developers work at: GOOGLE with 51 developers.\n"
     ]
    }
   ],
   "source": [
    "#Q4\n",
    "import pandas as pd\n",
    "\n",
    "# Load the data\n",
    "users_df = pd.read_csv('users.csv')\n",
    "\n",
    "# Count occurrences of each company\n",
    "company_counts = users_df['company'].value_counts()\n",
    "\n",
    "# Get the company with the highest count\n",
    "most_common_company = company_counts.idxmax()\n",
    "most_common_count = company_counts.max()\n",
    "\n",
    "print(f\"The majority of developers work at: {most_common_company} with {most_common_count} developers.\")\n"
   ]
  },
  {
   "cell_type": "code",
   "execution_count": 32,
   "id": "18164ae4",
   "metadata": {},
   "outputs": [
    {
     "name": "stdout",
     "output_type": "stream",
     "text": [
      "The most popular programming language is: Python with 3973 repositories.\n"
     ]
    }
   ],
   "source": [
    "#Q5\n",
    "import pandas as pd\n",
    "\n",
    "# Load the data\n",
    "repositories_df = pd.read_csv('repositories.csv')\n",
    "\n",
    "# Count occurrences of each programming language, ignoring missing values\n",
    "language_counts = repositories_df['language'].value_counts()\n",
    "\n",
    "# Get the most popular programming language\n",
    "most_popular_language = language_counts.idxmax()\n",
    "most_popular_count = language_counts.max()\n",
    "\n",
    "print(f\"The most popular programming language is: {most_popular_language} with {most_popular_count} repositories.\")\n"
   ]
  },
  {
   "cell_type": "code",
   "execution_count": 33,
   "id": "548a04d7",
   "metadata": {},
   "outputs": [
    {
     "name": "stdout",
     "output_type": "stream",
     "text": [
      "The second most popular programming language among users who joined after 2020 is: JavaScript with 95 repositories.\n"
     ]
    }
   ],
   "source": [
    "#Q6\n",
    "import pandas as pd\n",
    "\n",
    "# Load the data\n",
    "users_df = pd.read_csv('users.csv')\n",
    "repositories_df = pd.read_csv('repositories.csv')\n",
    "\n",
    "# Convert created_at to datetime and filter users who joined after 2020\n",
    "users_df['created_at'] = pd.to_datetime(users_df['created_at'])\n",
    "recent_users = users_df[users_df['created_at'] > '2020-01-01']\n",
    "\n",
    "# Get the logins of recent users\n",
    "recent_user_logins = recent_users['login'].tolist()\n",
    "\n",
    "# Filter repositories by these users\n",
    "recent_repositories = repositories_df[repositories_df['login'].isin(recent_user_logins)]\n",
    "\n",
    "# Count occurrences of each programming language\n",
    "language_counts = recent_repositories['language'].value_counts()\n",
    "\n",
    "# Get the second most popular programming language\n",
    "second_most_popular_language = language_counts.nlargest(2).index[1]\n",
    "second_most_popular_count = language_counts.nlargest(2).values[1]\n",
    "\n",
    "print(f\"The second most popular programming language among users who joined after 2020 is: {second_most_popular_language} with {second_most_popular_count} repositories.\")\n"
   ]
  },
  {
   "cell_type": "code",
   "execution_count": 34,
   "id": "02eb5abe",
   "metadata": {},
   "outputs": [
    {
     "name": "stdout",
     "output_type": "stream",
     "text": [
      "The programming language with the highest average number of stars per repository is: BitBake with an average of 364.00 stars.\n"
     ]
    }
   ],
   "source": [
    "#Q7\n",
    "import pandas as pd\n",
    "\n",
    "# Load the data\n",
    "repositories_df = pd.read_csv('repositories.csv')\n",
    "\n",
    "# Group by programming language and calculate the average stars\n",
    "average_stars = repositories_df.groupby('language')['stargazers_count'].mean()\n",
    "\n",
    "# Identify the language with the highest average stars\n",
    "highest_average_language = average_stars.idxmax()\n",
    "highest_average_value = average_stars.max()\n",
    "\n",
    "print(f\"The programming language with the highest average number of stars per repository is: {highest_average_language} with an average of {highest_average_value:.2f} stars.\")\n"
   ]
  },
  {
   "cell_type": "code",
   "execution_count": 35,
   "id": "252d0461",
   "metadata": {},
   "outputs": [
    {
     "name": "stdout",
     "output_type": "stream",
     "text": [
      "riscv, bpasero, Seldaek, egamma, ethz-asl\n"
     ]
    }
   ],
   "source": [
    "#Q8\n",
    "import pandas as pd\n",
    "\n",
    "# Load the data\n",
    "users_df = pd.read_csv('users.csv')\n",
    "\n",
    "# Calculate leader_strength\n",
    "users_df['leader_strength'] = users_df['followers'] / (1 + users_df['following'])\n",
    "\n",
    "# Sort by leader_strength and get the top 5\n",
    "top_leaders = users_df.sort_values(by='leader_strength', ascending=False).head(5)\n",
    "\n",
    "# Extract logins\n",
    "top_logins = top_leaders['login'].tolist()\n",
    "result = ', '.join(top_logins)\n",
    "\n",
    "print(result)\n"
   ]
  },
  {
   "cell_type": "code",
   "execution_count": 36,
   "id": "4a78e740",
   "metadata": {},
   "outputs": [
    {
     "name": "stdout",
     "output_type": "stream",
     "text": [
      "The correlation between the number of followers and the number of public repositories is: 0.066\n"
     ]
    }
   ],
   "source": [
    "#Q9\n",
    "import pandas as pd\n",
    "\n",
    "# Load the data\n",
    "users_df = pd.read_csv('users.csv')\n",
    "\n",
    "# Calculate the correlation between followers and public repositories\n",
    "correlation = users_df['followers'].corr(users_df['public_repos'])\n",
    "\n",
    "print(f\"The correlation between the number of followers and the number of public repositories is: {correlation:.3f}\")\n"
   ]
  },
  {
   "cell_type": "code",
   "execution_count": 37,
   "id": "ee58cfd0",
   "metadata": {},
   "outputs": [
    {
     "name": "stdout",
     "output_type": "stream",
     "text": [
      "Regression Results:\n",
      "                            OLS Regression Results                            \n",
      "==============================================================================\n",
      "Dep. Variable:              followers   R-squared:                       0.004\n",
      "Model:                            OLS   Adj. R-squared:                  0.002\n",
      "Method:                 Least Squares   F-statistic:                     2.052\n",
      "Date:                Wed, 30 Oct 2024   Prob (F-statistic):              0.153\n",
      "Time:                        21:09:28   Log-Likelihood:                -4156.3\n",
      "No. Observations:                 474   AIC:                             8317.\n",
      "Df Residuals:                     472   BIC:                             8325.\n",
      "Df Model:                           1                                         \n",
      "Covariance Type:            nonrobust                                         \n",
      "================================================================================\n",
      "                   coef    std err          t      P>|t|      [0.025      0.975]\n",
      "--------------------------------------------------------------------------------\n",
      "const          200.8414     95.735      2.098      0.036      12.721     388.961\n",
      "public_repos     1.4815      1.034      1.433      0.153      -0.551       3.513\n",
      "==============================================================================\n",
      "Omnibus:                     1110.192   Durbin-Watson:                   0.709\n",
      "Prob(Omnibus):                  0.000   Jarque-Bera (JB):          3299605.389\n",
      "Skew:                          19.620   Prob(JB):                         0.00\n",
      "Kurtosis:                     409.852   Cond. No.                         124.\n",
      "==============================================================================\n",
      "\n",
      "Notes:\n",
      "[1] Standard Errors assume that the covariance matrix of the errors is correctly specified.\n",
      "Estimated additional followers per additional public repository: 1.481\n"
     ]
    }
   ],
   "source": [
    "#Q10\n",
    "import pandas as pd\n",
    "import statsmodels.api as sm\n",
    "\n",
    "# Load the data\n",
    "users_df = pd.read_csv('users.csv')\n",
    "\n",
    "# Define the independent variable (X) and dependent variable (Y)\n",
    "X = users_df['public_repos']\n",
    "Y = users_df['followers']\n",
    "\n",
    "# Add a constant to the independent variable (for the intercept)\n",
    "X = sm.add_constant(X)\n",
    "\n",
    "# Fit the regression model\n",
    "model = sm.OLS(Y, X).fit()\n",
    "\n",
    "# Get the summary of the regression results\n",
    "summary = model.summary()\n",
    "\n",
    "# Extract the coefficient for public_repos\n",
    "additional_followers_per_repo = model.params['public_repos']\n",
    "\n",
    "print(f\"Regression Results:\\n{summary}\")\n",
    "print(f\"Estimated additional followers per additional public repository: {additional_followers_per_repo:.3f}\")\n"
   ]
  },
  {
   "cell_type": "code",
   "execution_count": 38,
   "id": "218830a0",
   "metadata": {},
   "outputs": [
    {
     "name": "stdout",
     "output_type": "stream",
     "text": [
      "The correlation between having projects enabled and having a wiki enabled is: 0.311\n"
     ]
    }
   ],
   "source": [
    "#Q11\n",
    "import pandas as pd\n",
    "\n",
    "# Load the data\n",
    "repositories_df = pd.read_csv('repositories.csv')\n",
    "\n",
    "\n",
    "# Calculate the correlation directly\n",
    "correlation = repositories_df['has_projects'].astype(int).corr(repositories_df['has_wiki'].astype(int))\n",
    "\n",
    "print(f\"The correlation between having projects enabled and having a wiki enabled is: {correlation:.3f}\")\n"
   ]
  },
  {
   "cell_type": "code",
   "execution_count": 39,
   "id": "c487392d",
   "metadata": {},
   "outputs": [
    {
     "name": "stdout",
     "output_type": "stream",
     "text": [
      "Difference in average following (hireable - non-hireable): -837.400\n"
     ]
    }
   ],
   "source": [
    "#Q12\n",
    "import pandas as pd\n",
    "\n",
    "# Load the users data from the CSV file\n",
    "users_df = pd.read_csv('users.csv')\n",
    "\n",
    "# Filter hireable and non-hireable users\n",
    "hireable_users = users_df[users_df['hireable'] == True]\n",
    "non_hireable_users = users_df[users_df['hireable'].isna() | (users_df['hireable'] == False)]\n",
    "\n",
    "# Calculate average following for both groups\n",
    "average_hireable_following = hireable_users['following'].mean()\n",
    "average_non_hireable_following = non_hireable_users['following'].mean()\n",
    "\n",
    "# Calculate the difference\n",
    "difference = average_hireable_following - average_non_hireable_following\n",
    "\n",
    "# Print the result rounded to three decimal places\n",
    "print(f'Difference in average following (hireable - non-hireable): {difference:.3f}')\n"
   ]
  },
  {
   "cell_type": "code",
   "execution_count": 41,
   "id": "ab248cd9",
   "metadata": {},
   "outputs": [
    {
     "name": "stdout",
     "output_type": "stream",
     "text": [
      "Regression slope of followers on bio word count: 40.721\n"
     ]
    },
    {
     "name": "stderr",
     "output_type": "stream",
     "text": [
      "C:\\Users\\0310a\\AppData\\Local\\Temp\\ipykernel_24528\\1755056196.py:14: SettingWithCopyWarning: \n",
      "A value is trying to be set on a copy of a slice from a DataFrame.\n",
      "Try using .loc[row_indexer,col_indexer] = value instead\n",
      "\n",
      "See the caveats in the documentation: https://pandas.pydata.org/pandas-docs/stable/user_guide/indexing.html#returning-a-view-versus-a-copy\n",
      "  users_with_bios['bio_word_count'] = users_with_bios['bio'].apply(lambda x: len(x.split()))\n"
     ]
    }
   ],
   "source": [
    "#Q13\n",
    "import pandas as pd\n",
    "import statsmodels.api as sm\n",
    "\n",
    "# Load the users data from the CSV file\n",
    "users_df = pd.read_csv('users.csv')\n",
    "\n",
    "# Filter out users without bios\n",
    "users_with_bios = users_df[users_df['bio'].notna()]\n",
    "\n",
    "# Calculate the length of the bio in words\n",
    "#users_with_bios['bio_word_count'] = users_with_bios['bio'].str.split(\" \").str.len()\n",
    "\n",
    "users_with_bios['bio_word_count'] = users_with_bios['bio'].apply(lambda x: len(x.split()))\n",
    "\n",
    "\n",
    "# Prepare the data for regression\n",
    "X = users_with_bios['bio_word_count']  # Independent variable\n",
    "y = users_with_bios['followers']        # Dependent variable\n",
    "\n",
    "# Add a constant to the independent variable for the regression\n",
    "X = sm.add_constant(X)\n",
    "\n",
    "# Fit the regression model\n",
    "model = sm.OLS(y, X).fit()\n",
    "\n",
    "# Get the regression slope (coefficient for bio_word_count)\n",
    "slope = model.params['bio_word_count']\n",
    "\n",
    "# Print the slope rounded to three decimal places\n",
    "print(f'Regression slope of followers on bio word count: {slope:.3f}')\n"
   ]
  },
  {
   "cell_type": "code",
   "execution_count": 42,
   "id": "53ba9405",
   "metadata": {},
   "outputs": [
    {
     "name": "stdout",
     "output_type": "stream",
     "text": [
      "Top 5 users who created the most repositories on weekends: JonnyBurger, syzer, kynan, nicnocquee, eregon\n"
     ]
    }
   ],
   "source": [
    "#Q14\n",
    "import pandas as pd\n",
    "\n",
    "# Load the repositories data from the CSV file\n",
    "repos_df = pd.read_csv('repositories.csv')\n",
    "\n",
    "# Convert the created_at column to datetime\n",
    "repos_df['created_at'] = pd.to_datetime(repos_df['created_at'])\n",
    "\n",
    "# Filter for weekend days (Saturday: 5, Sunday: 6)\n",
    "weekend_repos = repos_df[repos_df['created_at'].dt.dayofweek.isin([5, 6])]\n",
    "\n",
    "# Count the number of repositories created by each user\n",
    "top_users = weekend_repos['login'].value_counts().head(5)\n",
    "\n",
    "# Get the top 5 users' logins in order\n",
    "top_users_logins = ', '.join(top_users.index)\n",
    "\n",
    "# Print the result\n",
    "print(f'Top 5 users who created the most repositories on weekends: {top_users_logins}')\n"
   ]
  },
  {
   "cell_type": "code",
   "execution_count": 22,
   "id": "53e327d0",
   "metadata": {},
   "outputs": [
    {
     "name": "stdout",
     "output_type": "stream",
     "text": [
      "Difference in fraction of users with email: 0.068\n"
     ]
    }
   ],
   "source": [
    "#Q15\n",
    "import pandas as pd\n",
    "\n",
    "# Load the users data from the CSV file\n",
    "users_df = pd.read_csv('users.csv')\n",
    "\n",
    "# Total number of users\n",
    "total_users = len(users_df)\n",
    "\n",
    "# Filter hireable and non-hireable users\n",
    "hireable_users = users_df[users_df['hireable'] == True]\n",
    "non_hireable_users = users_df[users_df['hireable'].isna() | (users_df['hireable'] == False)]\n",
    "\n",
    "# Calculate the fraction of users with email in both groups\n",
    "fraction_hireable_with_email = hireable_users['email'].notna().mean()\n",
    "fraction_non_hireable_with_email = non_hireable_users['email'].notna().mean()\n",
    "\n",
    "# Calculate the difference\n",
    "difference = fraction_hireable_with_email - fraction_non_hireable_with_email\n",
    "\n",
    "# Print the result rounded to three decimal places\n",
    "print(f'Difference in fraction of users with email: {difference:.3f}')\n"
   ]
  },
  {
   "cell_type": "code",
   "execution_count": 23,
   "id": "9e96c245",
   "metadata": {},
   "outputs": [
    {
     "name": "stdout",
     "output_type": "stream",
     "text": [
      "Most common surname(s): Li, Wang\n",
      "Number of users with the most common surname: 4\n"
     ]
    },
    {
     "name": "stderr",
     "output_type": "stream",
     "text": [
      "C:\\Users\\0310a\\AppData\\Local\\Temp\\ipykernel_24528\\2579288886.py:11: SettingWithCopyWarning: \n",
      "A value is trying to be set on a copy of a slice from a DataFrame.\n",
      "Try using .loc[row_indexer,col_indexer] = value instead\n",
      "\n",
      "See the caveats in the documentation: https://pandas.pydata.org/pandas-docs/stable/user_guide/indexing.html#returning-a-view-versus-a-copy\n",
      "  valid_users['surname'] = valid_users['name'].str.strip().str.split().str[-1]\n"
     ]
    }
   ],
   "source": [
    "#Q16\n",
    "import pandas as pd\n",
    "\n",
    "# Load the users data from the CSV file\n",
    "users_df = pd.read_csv('users.csv')\n",
    "\n",
    "# Filter out users without names\n",
    "valid_users = users_df[users_df['name'].notna()]\n",
    "\n",
    "# Extract surnames (last word in name)\n",
    "valid_users['surname'] = valid_users['name'].str.strip().str.split().str[-1]\n",
    "\n",
    "# Count occurrences of each surname\n",
    "surname_counts = valid_users['surname'].value_counts()\n",
    "\n",
    "# Find the most common surname(s)\n",
    "max_count = surname_counts.max()\n",
    "most_common_surnames = surname_counts[surname_counts == max_count].index.tolist()\n",
    "\n",
    "# Sort surnames alphabetically\n",
    "most_common_surnames.sort()\n",
    "\n",
    "# Count users with the most common surname\n",
    "number_of_users = max_count\n",
    "\n",
    "# Print results\n",
    "most_common_surnames_str = ', '.join(most_common_surnames)\n",
    "print(f'Most common surname(s): {most_common_surnames_str}')\n",
    "print(f'Number of users with the most common surname: {number_of_users}')\n"
   ]
  },
  {
   "cell_type": "markdown",
   "id": "5ed48167",
   "metadata": {},
   "source": [
    "## Interesting Facts"
   ]
  },
  {
   "cell_type": "code",
   "execution_count": 46,
   "id": "765eb145",
   "metadata": {},
   "outputs": [
    {
     "data": {
      "image/png": "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\n",
      "text/plain": [
       "<Figure size 1200x600 with 1 Axes>"
      ]
     },
     "metadata": {},
     "output_type": "display_data"
    },
    {
     "name": "stdout",
     "output_type": "stream",
     "text": [
      "Regression results for Account Age:\n",
      "                            OLS Regression Results                            \n",
      "==============================================================================\n",
      "Dep. Variable:              followers   R-squared:                       0.000\n",
      "Model:                            OLS   Adj. R-squared:                 -0.002\n",
      "Method:                 Least Squares   F-statistic:                  0.002365\n",
      "Date:                Wed, 30 Oct 2024   Prob (F-statistic):              0.961\n",
      "Time:                        21:20:39   Log-Likelihood:                -4157.4\n",
      "No. Observations:                 474   AIC:                             8319.\n",
      "Df Residuals:                     472   BIC:                             8327.\n",
      "Df Model:                           1                                         \n",
      "Covariance Type:            nonrobust                                         \n",
      "===============================================================================\n",
      "                  coef    std err          t      P>|t|      [0.025      0.975]\n",
      "-------------------------------------------------------------------------------\n",
      "const         279.0947    272.411      1.025      0.306    -256.193     814.382\n",
      "account_age     1.1777     24.220      0.049      0.961     -46.414      48.770\n",
      "==============================================================================\n",
      "Omnibus:                     1107.452   Durbin-Watson:                   0.700\n",
      "Prob(Omnibus):                  0.000   Jarque-Bera (JB):          3244748.226\n",
      "Skew:                          19.509   Prob(JB):                         0.00\n",
      "Kurtosis:                     406.446   Cond. No.                         43.0\n",
      "==============================================================================\n",
      "\n",
      "Notes:\n",
      "[1] Standard Errors assume that the covariance matrix of the errors is correctly specified.\n"
     ]
    }
   ],
   "source": [
    "import pandas as pd\n",
    "import matplotlib.pyplot as plt\n",
    "import seaborn as sns\n",
    "import statsmodels.api as sm\n",
    "from datetime import datetime, timezone\n",
    "\n",
    "# Load the users data from the CSV file\n",
    "users_df = pd.read_csv('users.csv')\n",
    "\n",
    "# Convert 'created_at' to datetime format\n",
    "users_df['created_at'] = pd.to_datetime(users_df['created_at'], utc=True)  # Set UTC\n",
    "\n",
    "# Calculate the account age in years\n",
    "now_utc = datetime.now(timezone.utc)  # Get the current time in UTC\n",
    "users_df['account_age'] = (now_utc - users_df['created_at']).dt.days / 365.25  # Using 365.25 for leap years\n",
    "\n",
    "# 1. Scatter plot of account age vs followers\n",
    "plt.figure(figsize=(12, 6))\n",
    "sns.scatterplot(data=users_df, x='account_age', y='followers', alpha=0.6)\n",
    "plt.title('Followers vs. Account Age on GitHub')\n",
    "plt.xlabel('Account Age (Years)')\n",
    "plt.ylabel('Number of Followers')\n",
    "plt.grid(True)\n",
    "plt.show()\n",
    "\n",
    "# 2. Fit a regression model to understand the relationship\n",
    "X_age = sm.add_constant(users_df['account_age'])  # Add a constant for the intercept\n",
    "y_followers = users_df['followers']\n",
    "model_age = sm.OLS(y_followers, X_age).fit()\n",
    "\n",
    "# Print the regression results\n",
    "print(\"Regression results for Account Age:\")\n",
    "print(model_age.summary())\n"
   ]
  }
 ],
 "metadata": {
  "kernelspec": {
   "display_name": "Python 3 (ipykernel)",
   "language": "python",
   "name": "python3"
  },
  "language_info": {
   "codemirror_mode": {
    "name": "ipython",
    "version": 3
   },
   "file_extension": ".py",
   "mimetype": "text/x-python",
   "name": "python",
   "nbconvert_exporter": "python",
   "pygments_lexer": "ipython3",
   "version": "3.10.9"
  }
 },
 "nbformat": 4,
 "nbformat_minor": 5
}
